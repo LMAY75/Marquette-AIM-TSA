{
  "nbformat": 4,
  "nbformat_minor": 0,
  "metadata": {
    "colab": {
      "provenance": [],
      "authorship_tag": "ABX9TyMvavkYddNhtXljA8eZsM0m"
    },
    "kernelspec": {
      "name": "python3",
      "display_name": "Python 3"
    },
    "language_info": {
      "name": "python"
    }
  },
  "cells": [
    {
      "cell_type": "markdown",
      "source": [
        "#About Unit 3\n",
        "\n",
        "Welcome back to the Marquette University AIM time series analysis curriculum! In this unit you will learn about stationarity and unit roots, two very important characteristics of time series. We will work through several examples to break down what stationarity is prior to the next unit where we start to model and predict future values."
      ],
      "metadata": {
        "id": "2GJ9oNRwJhUR"
      }
    },
    {
      "cell_type": "markdown",
      "source": [
        "# Getting Started\n",
        "\n",
        "**Import Packages**\n",
        "\n",
        "Run the following code to bring the necessary packages into your environment. Ensure you are running a python kernel >=3.0.0. We will not need to import any data for this week's unit since we can simply generate a random series."
      ],
      "metadata": {
        "id": "PmK8WQn1J-PQ"
      }
    },
    {
      "cell_type": "code",
      "source": [
        "!pip install arch\n",
        "\n",
        "import pandas as pd\n",
        "import numpy as np\n",
        "import matplotlib.pyplot as plt\n",
        "import yfinance as yf\n",
        "import statsmodels.api as sm\n",
        "from statsmodels.tsa.stattools import adfuller, kpss\n",
        "from arch.unitroot import PhillipsPerron\n",
        "from statsmodels.tsa.seasonal import seasonal_decompose"
      ],
      "metadata": {
        "id": "G6ftY9Q8J_Xf"
      },
      "execution_count": null,
      "outputs": []
    },
    {
      "cell_type": "markdown",
      "source": [
        "#Stationarity\n",
        "\n",
        "Stationarity is a fundamental concept in time series analysis that refers to the property of a time series where its statistical characteristics, such as mean, variance, and autocorrelation, remain constant over time. A stationary time series is easier to model and predict since its behavior does not change over time.\n",
        "\n",
        "Mathematically, a time series $X_t$ is stationary if:\n",
        "1. $E[X_t] = \\mu$ (mean is constant over time),\n",
        "2. $\\text{Var}[X_t] = \\sigma^2$ (variance is constant over time),\n",
        "3. Covariance $\\text{Cov}[X_t, X_{t+k}]$ depends only on $k$ (the lag), not $t$.\n",
        "\n",
        "**Types of Stationarity**\n",
        "1. **Strict Stationarity**: The joint distribution of $X_t$ remains unchanged over time.\n",
        "2. **Weak Stationarity (Second-order Stationarity)**: Only the mean, variance, and autocovariance are invariant over time. This is the most commonly used type of stationarity in time series analysis.\n",
        "\n",
        "**Why Does Stationarity Matter?**\n",
        "\n",
        "Most statistical models for time series analysis assume stationarity because:\n",
        "- It simplifies the modeling process.\n",
        "- Non-stationary data often leads to spurious results when conducting hypothesis testing or forecasting.\n",
        "\n",
        "**Testing for Stationarity**\n",
        "\n",
        "There are several statistical tests available to determine whether a time series is stationary:\n",
        "\n",
        "1. **Augmented Dickey-Fuller (ADF) Test**:\n",
        "   - The null hypothesis $H_0$: The time series has a unit root (non-stationary).\n",
        "   - The alternative hypothesis $H_1$: The time series is stationary.\n",
        "\n",
        "2. **KPSS Test** (Kwiatkowski-Phillips-Schmidt-Shin):\n",
        "   - The null hypothesis $H_0$: The time series is stationary.\n",
        "   - The alternative hypothesis $H_1$: The time series is non-stationary.\n",
        "\n",
        "3. **Phillips-Perron Test**:\n",
        "   - Similar to ADF but more robust to serial correlation and heteroscedasticity.\n"
      ],
      "metadata": {
        "id": "3pmJ7C7TLEBB"
      }
    },
    {
      "cell_type": "code",
      "source": [
        "# Generate random data\n",
        "data = np.random.randn(100)\n",
        "\n",
        "# Augmented Dickey-Fuller (ADF) test\n",
        "result = adfuller(data)\n",
        "print(\"ADF Statistic:\", result[0])\n",
        "print(\"p-value:\", result[1])\n",
        "if result[1] < 0.05:\n",
        "    print(\"The time series is stationary\")\n",
        "else:\n",
        "    print(\"The time series is non-stationary\")\n",
        "print()\n",
        "\n",
        "# KPSS Test\n",
        "result = kpss(data, regression='c')\n",
        "print(\"KPSS Statistic:\", result[0])\n",
        "print(\"p-value:\", result[1])\n",
        "print(\"Critical Values:\", result[3])\n",
        "if result[1] < 0.05:\n",
        "    print(\"The series is non-stationary\")\n",
        "else:\n",
        "    print(\"The series is stationary\")\n",
        "print()\n",
        "\n",
        "# Phillips-Perron Test\n",
        "pp_test = PhillipsPerron(data)\n",
        "print(pp_test)"
      ],
      "metadata": {
        "id": "KSeanbSYX7c2"
      },
      "execution_count": null,
      "outputs": []
    },
    {
      "cell_type": "markdown",
      "source": [
        "**Transforming Non-stationary Series**\n",
        "\n",
        "If a time series is non-stationary, you can apply transformations to make it stationary. Here are some common techniques:\n",
        "\n",
        "1. **Differencing**:\n",
        "   - Subtract the previous observation from the current observation:\n",
        "$$\n",
        "Y_t = X_t - X_{t-1}\n",
        "$$\n",
        "   - First-order differencing is usually sufficient, but higher-order differencing can be applied if needed.\n",
        "\n",
        "2. **Log Transformation**:\n",
        "   - Useful for stabilizing variance:\n",
        "$$\n",
        "Y_t = \\log(X_t)\n",
        "$$\n",
        "   - Caution: Only applicable for positive values.\n",
        "\n",
        "3. **Detrending**:\n",
        "   - Remove trends from the data by subtracting a fitted trend line.\n",
        "\n",
        "4. **Seasonal Adjustment**:\n",
        "   - Remove seasonal effects by computing seasonal indices or using decomposition methods."
      ],
      "metadata": {
        "id": "At82dWn3YBL1"
      }
    },
    {
      "cell_type": "code",
      "source": [
        "# Generate non-stationary data\n",
        "non_stationary_data = np.cumsum(np.random.randn(100))\n",
        "\n",
        "# Differencing\n",
        "plt.figure(figsize=(12, 8))\n",
        "plt.subplot(2, 2, 1)\n",
        "plt.plot(non_stationary_data, label=\"Original Data\")\n",
        "stationary_data = np.diff(non_stationary_data)\n",
        "plt.plot(stationary_data, label=\"Differenced Data\")\n",
        "plt.legend()\n",
        "plt.title(\"Differencing\")\n",
        "\n",
        "# Log Transformation\n",
        "plt.subplot(2, 2, 2)\n",
        "log_transformed_data = np.log(non_stationary_data - min(non_stationary_data) + 1)\n",
        "plt.plot(non_stationary_data, label=\"Original Data\")\n",
        "plt.plot(log_transformed_data, label=\"Log Transformed Data\")\n",
        "plt.legend()\n",
        "plt.title(\"Log Transformation\")\n",
        "\n",
        "# Detrending\n",
        "time = np.arange(len(non_stationary_data))\n",
        "trend = np.polyfit(time, non_stationary_data, 1)\n",
        "trend_line = np.polyval(trend, time)\n",
        "detrended_data = non_stationary_data - trend_line\n",
        "plt.subplot(2, 2, 3)\n",
        "plt.plot(non_stationary_data, label=\"Original Data\")\n",
        "plt.plot(trend_line, label=\"Trend Line\")\n",
        "plt.plot(detrended_data, label=\"Detrended Data\")\n",
        "plt.legend()\n",
        "plt.title(\"Detrending\")\n",
        "\n",
        "# Seasonal Adjustment\n",
        "decomposed = seasonal_decompose(non_stationary_data, model='additive', period=12)\n",
        "plt.subplot(2, 2, 4)\n",
        "plt.plot(non_stationary_data, label=\"Original Data\")\n",
        "plt.plot(decomposed.trend, label=\"Trend\")\n",
        "plt.plot(decomposed.seasonal, label=\"Seasonality\")\n",
        "plt.plot(decomposed.resid, label=\"Residuals\")\n",
        "plt.legend()\n",
        "plt.title(\"Seasonal Adjustment\")\n",
        "\n",
        "plt.tight_layout()\n",
        "plt.show()"
      ],
      "metadata": {
        "id": "jD13G9_2YNw_"
      },
      "execution_count": null,
      "outputs": []
    },
    {
      "cell_type": "markdown",
      "source": [
        "**Unit Roots**\n",
        "\n",
        "A unit root is a characteristic of a non-stationary process where the value of the series is highly dependent on its previous value. A time series with a unit root exhibits a random walk behavior.\n",
        "\n",
        "Autoregressive Representation\n",
        "\n",
        "Consider the AR(1) process: $X_t = \\phi X_{t-1} + \\epsilon_t$\n",
        "\n",
        "If $|\\phi| < 1$: The series is stationary.\n",
        "\n",
        "If $|\\phi| = 1$: The series has a unit root (non-stationary).\n",
        "\n",
        "If $|\\phi| > 1$: The series is explosive."
      ],
      "metadata": {
        "id": "XxJj5NQdYOFB"
      }
    },
    {
      "cell_type": "code",
      "source": [
        "# Example of an AR(1) process with unit root behavior\n",
        "from statsmodels.tsa.arima_process import ArmaProcess\n",
        "\n",
        "# AR(1) process with phi=1 (unit root)\n",
        "ar_params = [1, -1]\n",
        "ma_params = [1]\n",
        "ar_process = ArmaProcess(ar_params, ma_params)\n",
        "unit_root_data = ar_process.generate_sample(nsample=100)\n",
        "plt.plot(unit_root_data, label=\"AR(1) with Unit Root\")\n",
        "plt.legend()\n",
        "plt.title(\"AR(1) Process with Unit Root\")\n",
        "plt.show()\n",
        "\n",
        "# Augmented Dickey-Fuller (ADF) test\n",
        "result = adfuller(data)\n",
        "print(\"ADF Statistic:\", result[0])\n",
        "print(\"p-value:\", result[1])\n",
        "if result[1] < 0.05:\n",
        "    print(\"The time series is stationary\")\n",
        "else:\n",
        "    print(\"The time series is non-stationary\")\n",
        "print()"
      ],
      "metadata": {
        "id": "LcOM_yGMZ1r0"
      },
      "execution_count": null,
      "outputs": []
    },
    {
      "cell_type": "markdown",
      "source": [
        "#Conclusion\n",
        "\n",
        "This concludes Unit 3 of the AIM Time Series Analysis curriculum. After completing this, you should have foundational understanding of stationary, unit roots, and testing for these features in your data sets. Stay tuned for Unit 4 where we will begin forecasting with AR, MA, and ARIMA models!"
      ],
      "metadata": {
        "id": "RhYvLavIZ2dZ"
      }
    }
  ]
}