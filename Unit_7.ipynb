{
  "cells": [
    {
      "cell_type": "markdown",
      "id": "0548988b",
      "metadata": {
        "id": "0548988b"
      },
      "source": [
        "# About Unit 7\n",
        "\n",
        "Welcome to the Marquette University AIM time series analysis curriculum! In this unit, you will learn about **Seasonal ARIMA (SARIMA)** models and how to extend them with exogenous variables (**SARIMAX**). These models handle both seasonality and external predictors in time series forecasting.\n",
        "\n",
        "By the end of this unit, you will:\n",
        "- Understand SARIMA and SARIMAX models.\n",
        "- Incorporate seasonality and external variables into time series models.\n",
        "- Apply model selection and diagnostics."
      ]
    },
    {
      "cell_type": "markdown",
      "id": "e4c58989",
      "metadata": {
        "id": "e4c58989"
      },
      "source": [
        "# Getting Started\n",
        "\n",
        "**Import Packages**\n",
        "\n",
        "Run the following code to bring the necessary packages into your environment. Ensure you are running a Python kernel >=3.0.0."
      ]
    },
    {
      "cell_type": "code",
      "execution_count": null,
      "id": "74692fec",
      "metadata": {
        "id": "74692fec"
      },
      "outputs": [],
      "source": [
        "import numpy as np\n",
        "import pandas as pd\n",
        "import matplotlib.pyplot as plt\n",
        "from statsmodels.tsa.statespace.sarimax import SARIMAX\n",
        "from statsmodels.graphics.tsaplots import plot_acf, plot_pacf\n",
        "from statsmodels.stats.diagnostic import acorr_ljungbox"
      ]
    },
    {
      "cell_type": "markdown",
      "id": "4b4b4745",
      "metadata": {
        "id": "4b4b4745"
      },
      "source": [
        "# SARIMA Models\n",
        "\n",
        "### Seasonal ARIMA (SARIMA)\n",
        "SARIMA models extend ARIMA by including seasonal components:\n",
        "\\[ \\text{SARIMA}(p, d, q)(P, D, Q, s) \\]\n",
        "- \\( p, d, q \\): Non-seasonal ARIMA parameters.\n",
        "- \\( P, D, Q \\): Seasonal ARIMA parameters.\n",
        "- \\( s \\): Seasonal period.\n",
        "\n",
        "### Key Components:\n",
        "- **Differencing (D)**: Seasonal differencing makes the series stationary.\n",
        "- **AR (P)** and **MA (Q)** terms: Model seasonal patterns.\n",
        "\n",
        "### Steps:\n",
        "1. Identify seasonal period \\( s \\).\n",
        "2. Fit SARIMA with selected parameters.\n",
        "3. Conduct diagnostics and refine the model."
      ]
    },
    {
      "cell_type": "code",
      "execution_count": null,
      "id": "c5848839",
      "metadata": {
        "id": "c5848839"
      },
      "outputs": [],
      "source": [
        "# Simulate Seasonal Data\n",
        "np.random.seed(42)\n",
        "time = np.arange(1, 121)\n",
        "seasonal_data = 10 + 5 * np.sin(2 * np.pi * time / 12) + np.random.randn(len(time))\n",
        "\n",
        "# Plot seasonal data\n",
        "plt.plot(time, seasonal_data)\n",
        "plt.title('Simulated Seasonal Data')\n",
        "plt.show()"
      ]
    },
    {
      "cell_type": "code",
      "execution_count": null,
      "id": "b9dc4ce4",
      "metadata": {
        "id": "b9dc4ce4"
      },
      "outputs": [],
      "source": [
        "# Fit SARIMA Model\n",
        "from statsmodels.tsa.statespace.sarimax import SARIMAX\n",
        "\n",
        "# Fit SARIMA(1,1,1)(1,1,1,12)\n",
        "sarima_model = SARIMAX(seasonal_data, order=(1, 1, 1), seasonal_order=(1, 1, 1, 12))\n",
        "sarima_result = sarima_model.fit()\n",
        "\n",
        "# Print summary\n",
        "print(sarima_result.summary())"
      ]
    },
    {
      "cell_type": "markdown",
      "id": "5acf5b97",
      "metadata": {
        "id": "5acf5b97"
      },
      "source": [
        "# Model Diagnostics\n",
        "\n",
        "### Residual Analysis\n",
        "Residuals from a well-fitted SARIMA model should:\n",
        "- Be uncorrelated.\n",
        "- Have constant variance.\n",
        "\n",
        "### Ljung-Box Test\n",
        "The Ljung-Box test checks for residual autocorrelation."
      ]
    },
    {
      "cell_type": "code",
      "execution_count": null,
      "id": "0c4f7758",
      "metadata": {
        "id": "0c4f7758"
      },
      "outputs": [],
      "source": [
        "# Residual Analysis\n",
        "residuals = sarima_result.resid\n",
        "\n",
        "# Plot residuals\n",
        "plt.figure(figsize=(10, 6))\n",
        "plt.plot(residuals)\n",
        "plt.title('SARIMA Model Residuals')\n",
        "plt.show()\n",
        "\n",
        "# Perform Ljung-Box test\n",
        "ljung_box_results = acorr_ljungbox(residuals, lags=[10], return_df=True)\n",
        "print(ljung_box_results)"
      ]
    },
    {
      "cell_type": "markdown",
      "id": "080172d5",
      "metadata": {
        "id": "080172d5"
      },
      "source": [
        "# SARIMAX Models\n",
        "\n",
        "### SARIMAX: SARIMA with Exogenous Variables\n",
        "SARIMAX models add exogenous predictors to SARIMA models, allowing for external influences:\n",
        "\\[ Y_t = \\text{SARIMA}(p, d, q)(P, D, Q, s) + X_t \\beta \\]\n",
        "- \\( X_t \\): Exogenous variables (predictors).\n",
        "- \\( \\beta \\): Coefficients for predictors."
      ]
    },
    {
      "cell_type": "code",
      "execution_count": null,
      "id": "5deef595",
      "metadata": {
        "id": "5deef595"
      },
      "outputs": [],
      "source": [
        "# Example: SARIMAX with Exogenous Variable\n",
        "# Simulate exogenous variable\n",
        "exog = np.random.randn(len(seasonal_data))\n",
        "\n",
        "# Fit SARIMAX(1,1,1)(1,1,1,12) with exogenous variable\n",
        "sarimax_model = SARIMAX(seasonal_data, order=(1, 1, 1), seasonal_order=(1, 1, 1, 12), exog=exog)\n",
        "sarimax_result = sarimax_model.fit()\n",
        "\n",
        "# Print summary\n",
        "print(sarimax_result.summary())"
      ]
    },
    {
      "cell_type": "markdown",
      "id": "a35ca883",
      "metadata": {
        "id": "a35ca883"
      },
      "source": [
        "# Forecasting with SARIMAX\n",
        "\n",
        "Forecasting with SARIMAX involves predicting future values while considering both the time series and exogenous variables."
      ]
    },
    {
      "cell_type": "code",
      "execution_count": null,
      "id": "ecb3fa12",
      "metadata": {
        "id": "ecb3fa12"
      },
      "outputs": [],
      "source": [
        "# Forecasting with SARIMAX\n",
        "forecast_steps = 12\n",
        "future_exog = np.random.randn(forecast_steps)  # Simulate future exogenous variable\n",
        "forecast = sarimax_result.get_forecast(steps=forecast_steps, exog=future_exog)\n",
        "forecast_mean = forecast.predicted_mean\n",
        "forecast_ci = forecast.conf_int()\n",
        "\n",
        "# Plot forecast\n",
        "plt.plot(seasonal_data, label='Original Data')\n",
        "plt.plot(range(len(seasonal_data), len(seasonal_data) + forecast_steps), forecast_mean,\n",
        "         label='Forecast', color='red')\n",
        "plt.fill_between(range(len(seasonal_data), len(seasonal_data) + forecast_steps),\n",
        "                 forecast_ci.iloc[:, 0], forecast_ci.iloc[:, 1],\n",
        "                 color='pink', alpha=0.3, label='95% CI')\n",
        "plt.legend()\n",
        "plt.title('SARIMAX Forecast')\n",
        "plt.show()"
      ]
    },
    {
      "cell_type": "markdown",
      "id": "99c6a9e7",
      "metadata": {
        "id": "99c6a9e7"
      },
      "source": [
        "# Summary\n",
        "\n",
        "In this unit, you learned about **Seasonal ARIMA (SARIMA)** and **SARIMAX** models:\n",
        "- SARIMA models handle seasonality in time series.\n",
        "- SARIMAX models incorporate exogenous predictors.\n",
        "- Diagnostics and forecasting ensure model accuracy and generalization.\n",
        "\n",
        "These models are powerful tools for time series analysis and forecasting in complex scenarios."
      ]
    }
  ],
  "metadata": {
    "colab": {
      "provenance": []
    }
  },
  "nbformat": 4,
  "nbformat_minor": 5
}