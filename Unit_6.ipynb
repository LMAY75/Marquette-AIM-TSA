{
  "cells": [
    {
      "cell_type": "markdown",
      "id": "ec8e7a83",
      "metadata": {
        "id": "ec8e7a83"
      },
      "source": [
        "# About Unit 6\n",
        "\n",
        "Welcome to the Marquette University AIM time series analysis curriculum! In this unit, you will learn about **Autoregressive Integrated Moving Average (ARIMA) Models**, a versatile framework for time series forecasting. ARIMA combines:\n",
        "- Autoregression (AR)\n",
        "- Differencing (Integration, I)\n",
        "- Moving Averages (MA)\n",
        "\n",
        "By the end of this unit, you will:\n",
        "- Understand ARIMA model components.\n",
        "- Apply the **Box-Jenkins methodology** for model selection.\n",
        "- Conduct model diagnostics and validation."
      ]
    },
    {
      "cell_type": "markdown",
      "id": "4611e6ee",
      "metadata": {
        "id": "4611e6ee"
      },
      "source": [
        "# Getting Started\n",
        "\n",
        "**Import Packages**\n",
        "\n",
        "Run the following code to bring the necessary packages into your environment. Ensure you are running a Python kernel >=3.0.0."
      ]
    },
    {
      "cell_type": "code",
      "execution_count": null,
      "id": "ea32dfee",
      "metadata": {
        "id": "ea32dfee"
      },
      "outputs": [],
      "source": [
        "import numpy as np\n",
        "import pandas as pd\n",
        "import matplotlib.pyplot as plt\n",
        "from statsmodels.tsa.arima.model import ARIMA\n",
        "from statsmodels.graphics.tsaplots import plot_acf, plot_pacf\n",
        "from statsmodels.stats.diagnostic import acorr_ljungbox"
      ]
    },
    {
      "cell_type": "markdown",
      "id": "33d9b01e",
      "metadata": {
        "id": "33d9b01e"
      },
      "source": [
        "# ARIMA Model Components\n",
        "\n",
        "### ARIMA\n",
        "An ARIMA(p, d, q) model combines:\n",
        "- **Autoregression (AR)**: Uses past values to predict the current value.\n",
        "- **Integration (I)**: Differencing to make the series stationary.\n",
        "- **Moving Average (MA)**: Models the relationship between current and past error terms.\n",
        "\n",
        "The parameters of ARIMA:\n",
        "- \\( p \\): Number of AR terms (lags).\n",
        "- \\( d \\): Degree of differencing.\n",
        "- \\( q \\): Number of MA terms."
      ]
    },
    {
      "cell_type": "code",
      "execution_count": null,
      "id": "35d2b14c",
      "metadata": {
        "id": "35d2b14c"
      },
      "outputs": [],
      "source": [
        "# Simulate ARIMA(1,1,1) process\n",
        "from statsmodels.tsa.arima_process import ArmaProcess\n",
        "\n",
        "np.random.seed(42)\n",
        "ar = [1, -0.5]  # AR(1): phi=0.5\n",
        "ma = [1, 0.3]   # MA(1): theta=0.3\n",
        "arma_process = ArmaProcess(ar=ar, ma=ma)\n",
        "data_arima = arma_process.generate_sample(nsample=100)\n",
        "\n",
        "# Differencing to simulate ARIMA(1,1,1)\n",
        "data_arima = np.cumsum(data_arima)\n",
        "\n",
        "# Plot the simulated ARIMA(1,1,1) data\n",
        "plt.plot(data_arima)\n",
        "plt.title('Simulated ARIMA(1,1,1) Process')\n",
        "plt.show()"
      ]
    },
    {
      "cell_type": "markdown",
      "id": "09139702",
      "metadata": {
        "id": "09139702"
      },
      "source": [
        "# Box-Jenkins Methodology\n",
        "\n",
        "The Box-Jenkins methodology provides a systematic approach to build ARIMA models:\n",
        "\n",
        "1. **Model Identification**:\n",
        "   - Use plots of the series, ACF, and PACF to identify \\( p, d, q \\).\n",
        "   - Ensure the series is stationary (apply differencing if necessary).\n",
        "\n",
        "2. **Model Estimation**:\n",
        "   - Fit the ARIMA model with chosen parameters.\n",
        "\n",
        "3. **Model Diagnostics**:\n",
        "   - Analyze residuals to ensure no patterns remain.\n",
        "   - Perform Ljung-Box test to confirm residuals are white noise."
      ]
    },
    {
      "cell_type": "code",
      "execution_count": null,
      "id": "c113f350",
      "metadata": {
        "id": "c113f350"
      },
      "outputs": [],
      "source": [
        "# Example: Fitting an ARIMA Model\n",
        "# Simulated data\n",
        "data = data_arima\n",
        "\n",
        "# Plot ACF and PACF\n",
        "plot_acf(data, lags=20)\n",
        "plot_pacf(data, lags=20)\n",
        "plt.show()\n",
        "\n",
        "# Fit ARIMA(1,1,1)\n",
        "model = ARIMA(data, order=(1, 1, 1))\n",
        "fitted_model = model.fit()\n",
        "\n",
        "# Print summary\n",
        "print(fitted_model.summary())"
      ]
    },
    {
      "cell_type": "markdown",
      "id": "15ed0a08",
      "metadata": {
        "id": "15ed0a08"
      },
      "source": [
        "# Model Diagnostics\n",
        "\n",
        "### Residual Analysis\n",
        "Residuals from a well-fitted ARIMA model should:\n",
        "- Be uncorrelated (white noise).\n",
        "- Have constant variance.\n",
        "\n",
        "### Ljung-Box Test\n",
        "The Ljung-Box test checks whether residuals are independent (uncorrelated):\n",
        "\n",
        "- \\( H_0 \\): Residuals are uncorrelated.\n",
        "- \\( H_1 \\): Residuals are correlated."
      ]
    },
    {
      "cell_type": "code",
      "execution_count": null,
      "id": "ad2128a3",
      "metadata": {
        "id": "ad2128a3"
      },
      "outputs": [],
      "source": [
        "# Residual Analysis\n",
        "residuals = fitted_model.resid\n",
        "\n",
        "# Plot residuals\n",
        "plt.figure(figsize=(10, 6))\n",
        "plt.plot(residuals)\n",
        "plt.title('Residuals of ARIMA(1,1,1)')\n",
        "plt.show()\n",
        "\n",
        "# Perform Ljung-Box test\n",
        "ljung_box_results = acorr_ljungbox(residuals, lags=[10], return_df=True)\n",
        "print(ljung_box_results)"
      ]
    },
    {
      "cell_type": "markdown",
      "id": "a3987261",
      "metadata": {
        "id": "a3987261"
      },
      "source": [
        "# Model Refinement and Validation\n",
        "\n",
        "If diagnostics reveal issues (e.g., patterns in residuals or significant Ljung-Box test results):\n",
        "- Adjust the parameters \\( p, d, q \\).\n",
        "- Refit the model and repeat diagnostics.\n",
        "\n",
        "Validation ensures that the model generalizes well to unseen data."
      ]
    },
    {
      "cell_type": "code",
      "execution_count": null,
      "id": "da911517",
      "metadata": {
        "id": "da911517"
      },
      "outputs": [],
      "source": [
        "# Forecasting with ARIMA\n",
        "forecast_steps = 10\n",
        "forecast = fitted_model.get_forecast(steps=forecast_steps)\n",
        "forecast_mean = forecast.predicted_mean\n",
        "forecast_ci = forecast.conf_int()\n",
        "\n",
        "# Plot forecast\n",
        "plt.plot(data, label='Original Data')\n",
        "plt.plot(range(len(data), len(data) + forecast_steps), forecast_mean, label='Forecast', color='red')\n",
        "plt.fill_between(range(len(data), len(data) + forecast_steps),\n",
        "                 forecast_ci.iloc[:, 0], forecast_ci.iloc[:, 1],\n",
        "                 color='pink', alpha=0.3, label='95% CI')\n",
        "plt.legend()\n",
        "plt.title('ARIMA Forecast')\n",
        "plt.show()"
      ]
    },
    {
      "cell_type": "markdown",
      "id": "5796f644",
      "metadata": {
        "id": "5796f644"
      },
      "source": [
        "# Summary\n",
        "\n",
        "In this unit, you learned about **ARIMA Models**:\n",
        "- ARIMA combines AR, MA, and differencing to handle non-stationary data.\n",
        "- The Box-Jenkins methodology guides model identification, estimation, and diagnostics.\n",
        "- Diagnostics such as residual analysis and Ljung-Box tests ensure the model is well-fitted.\n",
        "\n",
        "ARIMA models are versatile tools for forecasting in time series analysis."
      ]
    }
  ],
  "metadata": {
    "colab": {
      "provenance": []
    }
  },
  "nbformat": 4,
  "nbformat_minor": 5
}