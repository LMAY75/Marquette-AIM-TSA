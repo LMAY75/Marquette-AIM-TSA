{
  "cells": [
    {
      "cell_type": "markdown",
      "metadata": {
        "id": "view-in-github",
        "colab_type": "text"
      },
      "source": [
        "<a href=\"https://colab.research.google.com/github/LMAY75/Marquette-AIM-TSA/blob/master/Unit_5.ipynb\" target=\"_parent\"><img src=\"https://colab.research.google.com/assets/colab-badge.svg\" alt=\"Open In Colab\"/></a>"
      ]
    },
    {
      "cell_type": "markdown",
      "id": "1144ecf5",
      "metadata": {
        "id": "1144ecf5"
      },
      "source": [
        "# About Unit 4\n",
        "\n",
        "Welcome to the Marquette University AIM time series analysis curriculum! In this unit, you will learn about **Moving Averages (MA)** and **Smoothing Methods**. These are critical tools in time series analysis for modeling, smoothing, and forecasting data. By the end of this unit, you will understand the differences between moving average models and smoothing methods, and how to apply them effectively."
      ]
    },
    {
      "cell_type": "markdown",
      "id": "c6ee64f0",
      "metadata": {
        "id": "c6ee64f0"
      },
      "source": [
        "# Getting Started\n",
        "\n",
        "**Import Packages**\n",
        "\n",
        "Run the following code to bring the necessary packages into your environment. Ensure you are running a Python kernel >=3.0.0."
      ]
    },
    {
      "cell_type": "code",
      "execution_count": null,
      "id": "9b340f5e",
      "metadata": {
        "id": "9b340f5e"
      },
      "outputs": [],
      "source": [
        "import numpy as np\n",
        "import pandas as pd\n",
        "import matplotlib.pyplot as plt\n",
        "from statsmodels.tsa.arima_process import ArmaProcess\n",
        "from statsmodels.tsa.api import SimpleExpSmoothing, Holt, ExponentialSmoothing\n",
        "from statsmodels.graphics.tsaplots import plot_acf, plot_pacf"
      ]
    },
    {
      "cell_type": "markdown",
      "id": "480c8ca9",
      "metadata": {
        "id": "480c8ca9"
      },
      "source": [
        "# Moving Average Models (MA)\n",
        "\n",
        "Moving Average (MA) models are a fundamental concept in time series analysis. In an MA(q) model, the value at time \\( t \\) is expressed as a linear combination of past white noise terms.\n",
        "\n",
        "### Mathematical Form:\n",
        "\\[ X_t = \\mu + \\epsilon_t + \\theta_1 \\epsilon_{t-1} + \\theta_2 \\epsilon_{t-2} + \\dots + \\theta_q \\epsilon_{t-q} \\]\n",
        "\n",
        "- **\\( \\mu \\)**: Mean of the series\n",
        "- **\\( \\epsilon_t \\)**: White noise at time \\( t \\)\n",
        "- **\\( \\theta \\)**: Coefficients for past errors\n",
        "\n",
        "### Steps to Work with MA Models:\n",
        "1. Simulate an MA process.\n",
        "2. Identify the order (q) using the autocorrelation function (ACF)."
      ]
    },
    {
      "cell_type": "code",
      "execution_count": null,
      "id": "87a64baa",
      "metadata": {
        "id": "87a64baa"
      },
      "outputs": [],
      "source": [
        "# Simulating an MA(2) process\n",
        "ar_params = [1]  # AR component is not used\n",
        "ma_params = [1, 0.5, -0.3]  # MA(2): theta_1=0.5, theta_2=-0.3\n",
        "process = ArmaProcess(ar=ar_params, ma=ma_params)\n",
        "simulated_data = process.generate_sample(nsample=100)\n",
        "\n",
        "# Plot the simulated data\n",
        "plt.plot(simulated_data)\n",
        "plt.title('Simulated MA(2) Process')\n",
        "plt.show()\n",
        "\n",
        "# Plot the ACF for the simulated data\n",
        "plot_acf(simulated_data, lags=20)\n",
        "plt.show()"
      ]
    },
    {
      "cell_type": "markdown",
      "id": "d60b0250",
      "metadata": {
        "id": "d60b0250"
      },
      "source": [
        "# Exponential Smoothing\n",
        "\n",
        "Exponential Smoothing is a family of methods used for smoothing and forecasting time series data. Unlike moving averages, exponential smoothing assigns exponentially decreasing weights to older observations.\n",
        "\n",
        "### Types of Exponential Smoothing:\n",
        "1. **Simple Exponential Smoothing**: Assumes no trend or seasonality.\n",
        "2. **Holt’s Method**: Captures trends.\n",
        "3. **Holt-Winters Method**: Captures trends and seasonality.\n",
        "\n",
        "### Mathematical Form:\n",
        "#### Simple Exponential Smoothing:\n",
        "\\[ S_t = \\alpha X_t + (1 - \\alpha) S_{t-1} \\]\n",
        "- \\( S_t \\): Smoothed value at time \\( t \\)\n",
        "- \\( \\alpha \\): Smoothing parameter (0 < \\alpha < 1)"
      ]
    },
    {
      "cell_type": "code",
      "execution_count": null,
      "id": "f281c25d",
      "metadata": {
        "id": "f281c25d"
      },
      "outputs": [],
      "source": [
        "# Example: Simple Exponential Smoothing\n",
        "data = np.random.randn(100).cumsum()  # Simulated data\n",
        "\n",
        "# Apply Simple Exponential Smoothing\n",
        "ses = SimpleExpSmoothing(data).fit(smoothing_level=0.2, optimized=False)\n",
        "smoothed_data = ses.fittedvalues\n",
        "\n",
        "# Plot the original and smoothed data\n",
        "plt.plot(data, label='Original Data')\n",
        "plt.plot(smoothed_data, label='Smoothed Data')\n",
        "plt.legend()\n",
        "plt.title('Simple Exponential Smoothing')\n",
        "plt.show()"
      ]
    },
    {
      "cell_type": "markdown",
      "id": "3b77cce4",
      "metadata": {
        "id": "3b77cce4"
      },
      "source": [
        "### Holt’s Method (Double Exponential Smoothing)\n",
        "\n",
        "Holt’s method extends simple exponential smoothing to capture linear trends.\n",
        "\\[ S_t = \\alpha X_t + (1 - \\alpha)(S_{t-1} + b_{t-1}) \\]\n",
        "\\[ b_t = \\beta (S_t - S_{t-1}) + (1 - \\beta) b_{t-1} \\]\n",
        "- \\( S_t \\): Smoothed value\n",
        "- \\( b_t \\): Estimated trend"
      ]
    },
    {
      "cell_type": "code",
      "execution_count": null,
      "id": "1f0d1634",
      "metadata": {
        "id": "1f0d1634"
      },
      "outputs": [],
      "source": [
        "# Example: Holt’s Method\n",
        "# Simulate data with a trend\n",
        "time = np.arange(100)\n",
        "data_with_trend = time + np.random.randn(100) * 5\n",
        "\n",
        "# Apply Holt’s method\n",
        "holt = Holt(data_with_trend).fit(smoothing_level=0.8, smoothing_slope=0.2)\n",
        "holt_forecast = holt.fittedvalues\n",
        "\n",
        "# Plot the original data and the trend\n",
        "plt.plot(data_with_trend, label='Original Data')\n",
        "plt.plot(holt_forecast, label='Holt's Smoothed Data')\n",
        "plt.legend()\n",
        "plt.title('Holt’s Method')\n",
        "plt.show()"
      ]
    },
    {
      "cell_type": "markdown",
      "id": "faa5b816",
      "metadata": {
        "id": "faa5b816"
      },
      "source": [
        "### Holt-Winters Method (Triple Exponential Smoothing)\n",
        "\n",
        "Holt-Winters extends Holt’s method to include seasonality.\n",
        "It works for data with trends and seasonal components."
      ]
    },
    {
      "cell_type": "code",
      "execution_count": null,
      "id": "1b8dd789",
      "metadata": {
        "id": "1b8dd789"
      },
      "outputs": [],
      "source": [
        "# Example: Holt-Winters Method\n",
        "# Simulate seasonal data\n",
        "np.random.seed(42)\n",
        "seasonal_data = 10 + np.sin(2 * np.pi * time / 12) + np.random.randn(100)\n",
        "\n",
        "# Apply Holt-Winters method\n",
        "hw = ExponentialSmoothing(seasonal_data, seasonal='add', seasonal_periods=12).fit()\n",
        "hw_forecast = hw.fittedvalues\n",
        "\n",
        "# Plot the original and smoothed data\n",
        "plt.plot(seasonal_data, label='Original Data')\n",
        "plt.plot(hw_forecast, label='Holt-Winters Smoothed Data')\n",
        "plt.legend()\n",
        "plt.title('Holt-Winters Method')\n",
        "plt.show()"
      ]
    },
    {
      "cell_type": "markdown",
      "id": "208c65a7",
      "metadata": {
        "id": "208c65a7"
      },
      "source": [
        "# Summary\n",
        "\n",
        "In this unit, you explored **Moving Averages (MA)** and **Exponential Smoothing Methods**:\n",
        "- **Moving Averages (MA)**: Identified using ACF and modeled past white noise terms.\n",
        "- **Exponential Smoothing**: Simple, Holt’s (double), and Holt-Winters (triple) methods were applied for smoothing and forecasting.\n",
        "\n",
        "These tools are essential for analyzing and forecasting time series data with trends and seasonality."
      ]
    }
  ],
  "metadata": {
    "colab": {
      "provenance": [],
      "include_colab_link": true
    }
  },
  "nbformat": 4,
  "nbformat_minor": 5
}