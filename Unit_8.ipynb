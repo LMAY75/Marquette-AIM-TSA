{
  "cells": [
    {
      "cell_type": "markdown",
      "id": "244a6ef3",
      "metadata": {
        "id": "244a6ef3"
      },
      "source": [
        "# About Unit 8\n",
        "\n",
        "Welcome to the Marquette University AIM time series analysis curriculum! In this unit, you will learn about **Filtering Techniques** for time series analysis. Filters are essential tools for decomposing, smoothing, and analyzing time series data.\n",
        "\n",
        "By the end of this unit, you will:\n",
        "- Decompose time series into trend and cycle using the Hodrick-Prescott filter.\n",
        "- Understand state-space models and real-time updates with the Kalman filter.\n",
        "- Apply the Butterworth filter for smoothing."
      ]
    },
    {
      "cell_type": "markdown",
      "id": "78551213",
      "metadata": {
        "id": "78551213"
      },
      "source": [
        "# Getting Started\n",
        "\n",
        "**Import Packages**\n",
        "\n",
        "Run the following code to bring the necessary packages into your environment. Ensure you are running a Python kernel >=3.0.0."
      ]
    },
    {
      "cell_type": "code",
      "execution_count": null,
      "id": "520ee50b",
      "metadata": {
        "id": "520ee50b"
      },
      "outputs": [],
      "source": [
        "import numpy as np\n",
        "import pandas as pd\n",
        "import matplotlib.pyplot as plt\n",
        "from statsmodels.tsa.filters.hp_filter import hpfilter\n",
        "from pykalman import KalmanFilter\n",
        "from scipy.signal import butter, filtfilt"
      ]
    },
    {
      "cell_type": "markdown",
      "id": "e5bbe68a",
      "metadata": {
        "id": "e5bbe68a"
      },
      "source": [
        "# Hodrick-Prescott Filter\n",
        "\n",
        "### Trend-Cycle Decomposition\n",
        "The Hodrick-Prescott (HP) filter decomposes a time series into:\n",
        "- **Trend**: Long-term movement.\n",
        "- **Cycle**: Short-term fluctuations.\n",
        "\n",
        "### Mathematical Formulation\n",
        "The HP filter minimizes:\n",
        "\\[ \\sum_{t=1}^{T} (y_t - \\tau_t)^2 + \\lambda \\sum_{t=2}^{T-1} ((\\tau_{t+1} - \\tau_t) - (\\tau_t - \\tau_{t-1}))^2 \\]\n",
        "- \\( \\lambda \\): Smoothing parameter (higher values emphasize trend).\n",
        "\n",
        "### Application\n",
        "The HP filter is widely used in economic data analysis."
      ]
    },
    {
      "cell_type": "code",
      "execution_count": null,
      "id": "bc95c7ea",
      "metadata": {
        "id": "bc95c7ea"
      },
      "outputs": [],
      "source": [
        "# Example: Hodrick-Prescott Filter\n",
        "np.random.seed(42)\n",
        "time = np.arange(1, 121)\n",
        "data = 10 + 0.5 * time + np.sin(2 * np.pi * time / 12) + np.random.randn(len(time))\n",
        "\n",
        "# Apply HP filter\n",
        "trend, cycle = hpfilter(data, lamb=1600)\n",
        "\n",
        "# Plot original data, trend, and cycle\n",
        "plt.figure(figsize=(10, 6))\n",
        "plt.plot(data, label='Original Data')\n",
        "plt.plot(trend, label='Trend', color='red')\n",
        "plt.plot(cycle, label='Cycle', color='green')\n",
        "plt.legend()\n",
        "plt.title('Hodrick-Prescott Filter')\n",
        "plt.show()"
      ]
    },
    {
      "cell_type": "markdown",
      "id": "ad4792e8",
      "metadata": {
        "id": "ad4792e8"
      },
      "source": [
        "# Kalman Filter\n",
        "\n",
        "### Introduction to State-Space Models\n",
        "The Kalman filter is a recursive algorithm used for:\n",
        "- **State estimation**: Estimating hidden states from noisy observations.\n",
        "- **Smoothing**: Reducing noise in time series data.\n",
        "\n",
        "### Applications\n",
        "- Tracking and forecasting.\n",
        "- Real-time updates."
      ]
    },
    {
      "cell_type": "code",
      "execution_count": null,
      "id": "e515042a",
      "metadata": {
        "id": "e515042a"
      },
      "outputs": [],
      "source": [
        "# Example: Kalman Filter\n",
        "# Simulate noisy data\n",
        "np.random.seed(42)\n",
        "true_state = np.linspace(0, 10, 100)\n",
        "observed_data = true_state + np.random.normal(0, 1, len(true_state))\n",
        "\n",
        "# Apply Kalman filter\n",
        "kf = KalmanFilter(initial_state_mean=0, n_dim_obs=1)\n",
        "kf = kf.em(observed_data, n_iter=10)  # Estimate parameters\n",
        "filtered_state_mean, _ = kf.filter(observed_data)\n",
        "\n",
        "# Plot results\n",
        "plt.figure(figsize=(10, 6))\n",
        "plt.plot(true_state, label='True State', color='green')\n",
        "plt.plot(observed_data, label='Observed Data', alpha=0.5)\n",
        "plt.plot(filtered_state_mean, label='Filtered State', color='red')\n",
        "plt.legend()\n",
        "plt.title('Kalman Filter')\n",
        "plt.show()"
      ]
    },
    {
      "cell_type": "markdown",
      "id": "9599b845",
      "metadata": {
        "id": "9599b845"
      },
      "source": [
        "# Butterworth Filter\n",
        "\n",
        "The Butterworth filter is a low-pass filter used for smoothing and signal processing. It minimizes distortion and preserves the signal's key features.\n",
        "\n",
        "### Applications\n",
        "- Signal processing.\n",
        "- Noise reduction."
      ]
    },
    {
      "cell_type": "code",
      "execution_count": null,
      "id": "fdac027b",
      "metadata": {
        "id": "fdac027b"
      },
      "outputs": [],
      "source": [
        "# Example: Butterworth Filter\n",
        "# Simulate noisy data\n",
        "np.random.seed(42)\n",
        "time = np.linspace(0, 10, 500)\n",
        "signal = np.sin(2 * np.pi * time) + np.random.normal(0, 0.5, len(time))\n",
        "\n",
        "# Apply Butterworth filter\n",
        "b, a = butter(4, 0.1, btype='low')  # 4th order, cutoff frequency = 0.1\n",
        "filtered_signal = filtfilt(b, a, signal)\n",
        "\n",
        "# Plot original and filtered signals\n",
        "plt.figure(figsize=(10, 6))\n",
        "plt.plot(time, signal, label='Original Signal', alpha=0.5)\n",
        "plt.plot(time, filtered_signal, label='Filtered Signal', color='red')\n",
        "plt.legend()\n",
        "plt.title('Butterworth Filter')\n",
        "plt.show()"
      ]
    },
    {
      "cell_type": "markdown",
      "id": "4d30ea2f",
      "metadata": {
        "id": "4d30ea2f"
      },
      "source": [
        "# Summary\n",
        "\n",
        "In this unit, you learned about **Filtering Techniques**:\n",
        "- **Hodrick-Prescott Filter**: Decomposed time series into trend and cycle components.\n",
        "- **Kalman Filter**: Applied real-time updates and smoothing for state-space models.\n",
        "- **Butterworth Filter**: Smoothed noisy data using low-pass filtering.\n",
        "\n",
        "These filtering techniques are essential tools for analyzing and preprocessing time series data in various applications."
      ]
    }
  ],
  "metadata": {
    "colab": {
      "provenance": []
    }
  },
  "nbformat": 4,
  "nbformat_minor": 5
}