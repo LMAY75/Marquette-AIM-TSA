{
  "cells": [
    {
      "cell_type": "markdown",
      "id": "cf67bb34",
      "metadata": {
        "id": "cf67bb34"
      },
      "source": [
        "# About Unit 4\n",
        "\n",
        "Welcome to the Marquette University AIM time series analysis curriculum! In this unit, you will learn about **Linear Models for Time Series**, including **regression models** and **autoregression (AR)** models. These models provide powerful tools for modeling trends, seasonality, and temporal dependencies in time series data.\n",
        "\n",
        "By the end of this unit, you will:\n",
        "- Fit linear and polynomial regression models.\n",
        "- Incorporate seasonality and trends using dummy variables and Fourier terms.\n",
        "- Understand and implement autoregressive (AR) models."
      ]
    },
    {
      "cell_type": "markdown",
      "id": "0459ca84",
      "metadata": {
        "id": "0459ca84"
      },
      "source": [
        "# Getting Started\n",
        "\n",
        "**Import Packages**\n",
        "\n",
        "Run the following code to bring the necessary packages into your environment. Ensure you are running a Python kernel >=3.0.0."
      ]
    },
    {
      "cell_type": "code",
      "execution_count": null,
      "id": "3a4b80a7",
      "metadata": {
        "id": "3a4b80a7"
      },
      "outputs": [],
      "source": [
        "import numpy as np\n",
        "import pandas as pd\n",
        "import matplotlib.pyplot as plt\n",
        "from statsmodels.tsa.ar_model import AutoReg\n",
        "from statsmodels.tsa.tsatools import add_trend\n",
        "from statsmodels.regression.linear_model import OLS\n",
        "from sklearn.preprocessing import PolynomialFeatures\n"
      ]
    },
    {
      "cell_type": "markdown",
      "id": "705ef478",
      "metadata": {
        "id": "705ef478"
      },
      "source": [
        "# Regression Models\n",
        "\n",
        "Regression models are a fundamental tool for modeling trends and seasonality in time series data. They use explanatory variables (e.g., time, seasonality) to predict the dependent variable.\n",
        "\n",
        "### Linear and Polynomial Regression\n",
        "Linear regression models the dependent variable as a linear function of time:\n",
        "\\[ Y_t = \\beta_0 + \\beta_1 t + \\epsilon_t \\]\n",
        "\n",
        "Polynomial regression extends this to higher-order polynomials:\n",
        "\\[ Y_t = \\beta_0 + \\beta_1 t + \\beta_2 t^2 + \\dots + \\beta_k t^k + \\epsilon_t \\]"
      ]
    },
    {
      "cell_type": "code",
      "execution_count": null,
      "id": "33b46664",
      "metadata": {
        "id": "33b46664"
      },
      "outputs": [],
      "source": [
        "# Example: Linear and Polynomial Regression\n",
        "time = np.arange(1, 101)\n",
        "data = 5 * time + np.random.normal(0, 10, len(time))  # Linear trend with noise\n",
        "\n",
        "# Linear regression\n",
        "X = time.reshape(-1, 1)\n",
        "model_linear = OLS(data, add_trend(X)).fit()\n",
        "pred_linear = model_linear.predict(add_trend(X))\n",
        "\n",
        "# Polynomial regression (degree 2)\n",
        "poly = PolynomialFeatures(degree=2)\n",
        "X_poly = poly.fit_transform(X)\n",
        "model_poly = OLS(data, X_poly).fit()\n",
        "pred_poly = model_poly.predict(X_poly)\n",
        "\n",
        "# Plot results\n",
        "plt.figure(figsize=(12, 6))\n",
        "plt.scatter(time, data, label='Data', alpha=0.6)\n",
        "plt.plot(time, pred_linear, label='Linear Regression', color='red')\n",
        "plt.plot(time, pred_poly, label='Polynomial Regression (Degree 2)', color='green')\n",
        "plt.legend()\n",
        "plt.title('Linear and Polynomial Regression')\n",
        "plt.show()"
      ]
    },
    {
      "cell_type": "markdown",
      "id": "90a752a7",
      "metadata": {
        "id": "90a752a7"
      },
      "source": [
        "### Incorporating Seasonality and Trend\n",
        "\n",
        "Seasonality and trends can be included using **dummy variables** or **Fourier terms**.\n",
        "\n",
        "- **Dummy Variables**: Represent categorical variables such as months or quarters.\n",
        "- **Fourier Terms**: Capture seasonality using sine and cosine functions."
      ]
    },
    {
      "cell_type": "code",
      "execution_count": null,
      "id": "c8020c55",
      "metadata": {
        "id": "c8020c55"
      },
      "outputs": [],
      "source": [
        "# Example: Fourier Terms for Seasonality\n",
        "from statsmodels.tsa.tsatools import freq_to_period\n",
        "\n",
        "time = np.arange(1, 101)\n",
        "seasonal_data = 10 + 5 * np.sin(2 * np.pi * time / 12) + np.random.randn(len(time))\n",
        "\n",
        "# Generate Fourier terms\n",
        "period = freq_to_period('M')  # Monthly seasonality\n",
        "t = np.arange(len(seasonal_data))\n",
        "cosine_term = np.cos(2 * np.pi * t / period)\n",
        "sine_term = np.sin(2 * np.pi * t / period)\n",
        "\n",
        "# Fit regression with Fourier terms\n",
        "X_fourier = np.column_stack([cosine_term, sine_term])\n",
        "model_fourier = OLS(seasonal_data, add_trend(X_fourier)).fit()\n",
        "pred_fourier = model_fourier.predict(add_trend(X_fourier))\n",
        "\n",
        "# Plot results\n",
        "plt.figure(figsize=(12, 6))\n",
        "plt.plot(seasonal_data, label='Original Data')\n",
        "plt.plot(pred_fourier, label='Fourier Regression', color='red')\n",
        "plt.legend()\n",
        "plt.title('Regression with Fourier Terms for Seasonality')\n",
        "plt.show()"
      ]
    },
    {
      "cell_type": "markdown",
      "id": "ea98690b",
      "metadata": {
        "id": "ea98690b"
      },
      "source": [
        "# Autoregression (AR)\n",
        "\n",
        "Autoregressive (AR) models predict the current value of the time series as a linear combination of its past values:\n",
        "\n",
        "\\[ Y_t = \\phi_1 Y_{t-1} + \\phi_2 Y_{t-2} + \\dots + \\phi_p Y_{t-p} + \\epsilon_t \\]\n",
        "\n",
        "- **\\( \\phi \\)**: AR coefficients\n",
        "- **\\( p \\)**: Order of the AR model (number of lags)\n",
        "\n",
        "### Assumptions:\n",
        "1. The time series is stationary.\n",
        "2. Errors (\\( \\epsilon_t \\)) are white noise."
      ]
    },
    {
      "cell_type": "code",
      "execution_count": null,
      "id": "f651ab8b",
      "metadata": {
        "id": "f651ab8b"
      },
      "outputs": [],
      "source": [
        "# Example: Autoregression\n",
        "# Generate AR(2) process\n",
        "from statsmodels.tsa.arima_process import ArmaProcess\n",
        "\n",
        "ar_params = [1, -0.75, 0.25]  # AR(2): phi_1=-0.75, phi_2=0.25\n",
        "ma_params = [1]  # No MA component\n",
        "ar_process = ArmaProcess(ar=ar_params, ma=ma_params)\n",
        "data_ar = ar_process.generate_sample(nsample=100)\n",
        "\n",
        "# Fit AR model\n",
        "ar_model = AutoReg(data_ar, lags=2).fit()\n",
        "pred_ar = ar_model.fittedvalues\n",
        "\n",
        "# Plot original data and AR fit\n",
        "plt.figure(figsize=(12, 6))\n",
        "plt.plot(data_ar, label='Original Data')\n",
        "plt.plot(pred_ar, label='AR(2) Fit', color='red')\n",
        "plt.legend()\n",
        "plt.title('Autoregression (AR) Model')\n",
        "plt.show()"
      ]
    },
    {
      "cell_type": "markdown",
      "id": "78b6f0bc",
      "metadata": {
        "id": "78b6f0bc"
      },
      "source": [
        "# Summary\n",
        "\n",
        "In this unit, you learned about **Linear Models for Time Series**:\n",
        "- **Regression Models**: Modeled trends and seasonality using linear and polynomial regression, dummy variables, and Fourier terms.\n",
        "- **Autoregressive Models (AR)**: Modeled temporal dependencies in the data.\n",
        "\n",
        "These tools are essential for modeling and forecasting time series with trends and temporal structure."
      ]
    }
  ],
  "metadata": {
    "colab": {
      "provenance": []
    }
  },
  "nbformat": 4,
  "nbformat_minor": 5
}